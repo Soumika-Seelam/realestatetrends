{
 "cells": [
  {
   "cell_type": "code",
   "execution_count": 2,
   "id": "3b0796bf-baf4-4de6-be54-f302a30b4773",
   "metadata": {},
   "outputs": [],
   "source": [
    "# Texas Real Estate Trends"
   ]
  },
  {
   "cell_type": "code",
   "execution_count": 3,
   "id": "55340100-3932-4659-b695-a99e32959529",
   "metadata": {},
   "outputs": [],
   "source": [
    "## Importing Libraries"
   ]
  },
  {
   "cell_type": "code",
   "execution_count": 4,
   "id": "e8d650de-6540-4a8e-816d-68915013c55c",
   "metadata": {},
   "outputs": [],
   "source": [
    "import pandas as pd"
   ]
  },
  {
   "cell_type": "code",
   "execution_count": 5,
   "id": "4baae154-988b-45bc-b39e-710ec964f369",
   "metadata": {},
   "outputs": [],
   "source": [
    "## Loading Data"
   ]
  },
  {
   "cell_type": "code",
   "execution_count": 6,
   "id": "a6c953db-9f8a-4a78-81fc-70d48bca1308",
   "metadata": {},
   "outputs": [
    {
     "data": {
      "text/html": [
       "<div>\n",
       "<style scoped>\n",
       "    .dataframe tbody tr th:only-of-type {\n",
       "        vertical-align: middle;\n",
       "    }\n",
       "\n",
       "    .dataframe tbody tr th {\n",
       "        vertical-align: top;\n",
       "    }\n",
       "\n",
       "    .dataframe thead th {\n",
       "        text-align: right;\n",
       "    }\n",
       "</style>\n",
       "<table border=\"1\" class=\"dataframe\">\n",
       "  <thead>\n",
       "    <tr style=\"text-align: right;\">\n",
       "      <th></th>\n",
       "      <th>url</th>\n",
       "      <th>status</th>\n",
       "      <th>id</th>\n",
       "      <th>listPrice</th>\n",
       "      <th>baths</th>\n",
       "      <th>baths_full</th>\n",
       "      <th>baths_full_calc</th>\n",
       "      <th>beds</th>\n",
       "      <th>sqft</th>\n",
       "      <th>stories</th>\n",
       "      <th>sub_type</th>\n",
       "      <th>text</th>\n",
       "      <th>type</th>\n",
       "      <th>year_built</th>\n",
       "    </tr>\n",
       "  </thead>\n",
       "  <tbody>\n",
       "    <tr>\n",
       "      <th>0</th>\n",
       "      <td>https://www.realtor.com/realestateandhomes-det...</td>\n",
       "      <td>for_sale</td>\n",
       "      <td>9773941616</td>\n",
       "      <td>240000.0</td>\n",
       "      <td>2</td>\n",
       "      <td>2.0</td>\n",
       "      <td>2.0</td>\n",
       "      <td>3.0</td>\n",
       "      <td>1190.0</td>\n",
       "      <td>1.0</td>\n",
       "      <td>NaN</td>\n",
       "      <td>Welcome home to your peaceful retreat nestled ...</td>\n",
       "      <td>single_family</td>\n",
       "      <td>2018.0</td>\n",
       "    </tr>\n",
       "    <tr>\n",
       "      <th>1</th>\n",
       "      <td>https://www.realtor.com/realestateandhomes-det...</td>\n",
       "      <td>for_sale</td>\n",
       "      <td>9224923922</td>\n",
       "      <td>379900.0</td>\n",
       "      <td>4</td>\n",
       "      <td>3.0</td>\n",
       "      <td>3.0</td>\n",
       "      <td>4.0</td>\n",
       "      <td>2033.0</td>\n",
       "      <td>1.0</td>\n",
       "      <td>NaN</td>\n",
       "      <td>Beautiful country home on 0.85 fenced acres, m...</td>\n",
       "      <td>single_family</td>\n",
       "      <td>2002.0</td>\n",
       "    </tr>\n",
       "    <tr>\n",
       "      <th>2</th>\n",
       "      <td>https://www.realtor.com/realestateandhomes-det...</td>\n",
       "      <td>for_sale</td>\n",
       "      <td>9840661824</td>\n",
       "      <td>370000.0</td>\n",
       "      <td>2</td>\n",
       "      <td>2.0</td>\n",
       "      <td>2.0</td>\n",
       "      <td>4.0</td>\n",
       "      <td>2062.0</td>\n",
       "      <td>1.0</td>\n",
       "      <td>NaN</td>\n",
       "      <td>PRICED TO SELL CORNER LOT HAS A STORM SHELTER ...</td>\n",
       "      <td>single_family</td>\n",
       "      <td>2012.0</td>\n",
       "    </tr>\n",
       "    <tr>\n",
       "      <th>3</th>\n",
       "      <td>https://www.realtor.com/realestateandhomes-det...</td>\n",
       "      <td>for_sale</td>\n",
       "      <td>7338317229</td>\n",
       "      <td>444000.0</td>\n",
       "      <td>4</td>\n",
       "      <td>3.0</td>\n",
       "      <td>3.0</td>\n",
       "      <td>5.0</td>\n",
       "      <td>3705.0</td>\n",
       "      <td>2.0</td>\n",
       "      <td>NaN</td>\n",
       "      <td>Come check out country living in the city! Are...</td>\n",
       "      <td>single_family</td>\n",
       "      <td>1985.0</td>\n",
       "    </tr>\n",
       "    <tr>\n",
       "      <th>4</th>\n",
       "      <td>https://www.realtor.com/realestateandhomes-det...</td>\n",
       "      <td>for_sale</td>\n",
       "      <td>7285845528</td>\n",
       "      <td>569000.0</td>\n",
       "      <td>2</td>\n",
       "      <td>2.0</td>\n",
       "      <td>2.0</td>\n",
       "      <td>3.0</td>\n",
       "      <td>3282.0</td>\n",
       "      <td>2.0</td>\n",
       "      <td>NaN</td>\n",
       "      <td>Welcome to your dream retreat! Nestled on over...</td>\n",
       "      <td>single_family</td>\n",
       "      <td>1981.0</td>\n",
       "    </tr>\n",
       "  </tbody>\n",
       "</table>\n",
       "</div>"
      ],
      "text/plain": [
       "                                                 url    status          id  \\\n",
       "0  https://www.realtor.com/realestateandhomes-det...  for_sale  9773941616   \n",
       "1  https://www.realtor.com/realestateandhomes-det...  for_sale  9224923922   \n",
       "2  https://www.realtor.com/realestateandhomes-det...  for_sale  9840661824   \n",
       "3  https://www.realtor.com/realestateandhomes-det...  for_sale  7338317229   \n",
       "4  https://www.realtor.com/realestateandhomes-det...  for_sale  7285845528   \n",
       "\n",
       "   listPrice  baths  baths_full  baths_full_calc  beds    sqft  stories  \\\n",
       "0   240000.0      2         2.0              2.0   3.0  1190.0      1.0   \n",
       "1   379900.0      4         3.0              3.0   4.0  2033.0      1.0   \n",
       "2   370000.0      2         2.0              2.0   4.0  2062.0      1.0   \n",
       "3   444000.0      4         3.0              3.0   5.0  3705.0      2.0   \n",
       "4   569000.0      2         2.0              2.0   3.0  3282.0      2.0   \n",
       "\n",
       "  sub_type                                               text           type  \\\n",
       "0      NaN  Welcome home to your peaceful retreat nestled ...  single_family   \n",
       "1      NaN  Beautiful country home on 0.85 fenced acres, m...  single_family   \n",
       "2      NaN  PRICED TO SELL CORNER LOT HAS A STORM SHELTER ...  single_family   \n",
       "3      NaN  Come check out country living in the city! Are...  single_family   \n",
       "4      NaN  Welcome to your dream retreat! Nestled on over...  single_family   \n",
       "\n",
       "   year_built  \n",
       "0      2018.0  \n",
       "1      2002.0  \n",
       "2      2012.0  \n",
       "3      1985.0  \n",
       "4      1981.0  "
      ]
     },
     "execution_count": 6,
     "metadata": {},
     "output_type": "execute_result"
    }
   ],
   "source": [
    "df = pd.read_csv(\"real_estate_texas_500_2024.csv\")\n",
    "\n",
    "# will display the first few rows\n",
    "df.head()"
   ]
  },
  {
   "cell_type": "code",
   "execution_count": 7,
   "id": "8df6e798-6d97-4f34-acb6-835f4a7d36fa",
   "metadata": {},
   "outputs": [
    {
     "data": {
      "text/plain": [
       "(501, 14)"
      ]
     },
     "execution_count": 7,
     "metadata": {},
     "output_type": "execute_result"
    }
   ],
   "source": [
    "# trying to figure out how many rows and columns\n",
    "df.shape"
   ]
  },
  {
   "cell_type": "code",
   "execution_count": 8,
   "id": "3ce1b2ec-20b5-4506-90d5-2dcbb2341ad2",
   "metadata": {},
   "outputs": [
    {
     "name": "stdout",
     "output_type": "stream",
     "text": [
      "<class 'pandas.core.frame.DataFrame'>\n",
      "RangeIndex: 501 entries, 0 to 500\n",
      "Data columns (total 14 columns):\n",
      " #   Column           Non-Null Count  Dtype  \n",
      "---  ------           --------------  -----  \n",
      " 0   url              501 non-null    object \n",
      " 1   status           501 non-null    object \n",
      " 2   id               501 non-null    int64  \n",
      " 3   listPrice        499 non-null    float64\n",
      " 4   baths            501 non-null    int64  \n",
      " 5   baths_full       436 non-null    float64\n",
      " 6   baths_full_calc  436 non-null    float64\n",
      " 7   beds             440 non-null    float64\n",
      " 8   sqft             438 non-null    float64\n",
      " 9   stories          391 non-null    float64\n",
      " 10  sub_type         10 non-null     object \n",
      " 11  text             495 non-null    object \n",
      " 12  type             501 non-null    object \n",
      " 13  year_built       289 non-null    float64\n",
      "dtypes: float64(7), int64(2), object(5)\n",
      "memory usage: 54.9+ KB\n"
     ]
    }
   ],
   "source": [
    "# column names, data types, missing info\n",
    "df.info()"
   ]
  },
  {
   "cell_type": "code",
   "execution_count": 9,
   "id": "e4611b71-2af5-4efb-b85f-2cb19c56a403",
   "metadata": {},
   "outputs": [
    {
     "data": {
      "text/plain": [
       "url                  0\n",
       "status               0\n",
       "id                   0\n",
       "listPrice            2\n",
       "baths                0\n",
       "baths_full          65\n",
       "baths_full_calc     65\n",
       "beds                61\n",
       "sqft                63\n",
       "stories            110\n",
       "sub_type           491\n",
       "text                 6\n",
       "type                 0\n",
       "year_built         212\n",
       "dtype: int64"
      ]
     },
     "execution_count": 9,
     "metadata": {},
     "output_type": "execute_result"
    }
   ],
   "source": [
    "# checking for the sum of null values in each column\n",
    "df.isnull().sum()"
   ]
  },
  {
   "cell_type": "code",
   "execution_count": 10,
   "id": "a6a85997-5526-482f-a95c-797f1ee1afdc",
   "metadata": {},
   "outputs": [
    {
     "name": "stdout",
     "output_type": "stream",
     "text": [
      "Requirement already satisfied: seaborn in /Library/Frameworks/Python.framework/Versions/3.12/lib/python3.12/site-packages (0.13.2)\n",
      "Requirement already satisfied: numpy!=1.24.0,>=1.20 in /Library/Frameworks/Python.framework/Versions/3.12/lib/python3.12/site-packages (from seaborn) (1.26.1)\n",
      "Requirement already satisfied: pandas>=1.2 in /Library/Frameworks/Python.framework/Versions/3.12/lib/python3.12/site-packages (from seaborn) (2.1.2)\n",
      "Requirement already satisfied: matplotlib!=3.6.1,>=3.4 in /Library/Frameworks/Python.framework/Versions/3.12/lib/python3.12/site-packages (from seaborn) (3.8.1)\n",
      "Requirement already satisfied: contourpy>=1.0.1 in /Library/Frameworks/Python.framework/Versions/3.12/lib/python3.12/site-packages (from matplotlib!=3.6.1,>=3.4->seaborn) (1.1.1)\n",
      "Requirement already satisfied: cycler>=0.10 in /Library/Frameworks/Python.framework/Versions/3.12/lib/python3.12/site-packages (from matplotlib!=3.6.1,>=3.4->seaborn) (0.12.1)\n",
      "Requirement already satisfied: fonttools>=4.22.0 in /Library/Frameworks/Python.framework/Versions/3.12/lib/python3.12/site-packages (from matplotlib!=3.6.1,>=3.4->seaborn) (4.43.1)\n",
      "Requirement already satisfied: kiwisolver>=1.3.1 in /Library/Frameworks/Python.framework/Versions/3.12/lib/python3.12/site-packages (from matplotlib!=3.6.1,>=3.4->seaborn) (1.4.5)\n",
      "Requirement already satisfied: packaging>=20.0 in /Library/Frameworks/Python.framework/Versions/3.12/lib/python3.12/site-packages (from matplotlib!=3.6.1,>=3.4->seaborn) (23.2)\n",
      "Requirement already satisfied: pillow>=8 in /Library/Frameworks/Python.framework/Versions/3.12/lib/python3.12/site-packages (from matplotlib!=3.6.1,>=3.4->seaborn) (10.1.0)\n",
      "Requirement already satisfied: pyparsing>=2.3.1 in /Library/Frameworks/Python.framework/Versions/3.12/lib/python3.12/site-packages (from matplotlib!=3.6.1,>=3.4->seaborn) (3.1.1)\n",
      "Requirement already satisfied: python-dateutil>=2.7 in /Library/Frameworks/Python.framework/Versions/3.12/lib/python3.12/site-packages (from matplotlib!=3.6.1,>=3.4->seaborn) (2.8.2)\n",
      "Requirement already satisfied: pytz>=2020.1 in /Library/Frameworks/Python.framework/Versions/3.12/lib/python3.12/site-packages (from pandas>=1.2->seaborn) (2023.3.post1)\n",
      "Requirement already satisfied: tzdata>=2022.1 in /Library/Frameworks/Python.framework/Versions/3.12/lib/python3.12/site-packages (from pandas>=1.2->seaborn) (2023.3)\n",
      "Requirement already satisfied: six>=1.5 in /Library/Frameworks/Python.framework/Versions/3.12/lib/python3.12/site-packages (from python-dateutil>=2.7->matplotlib!=3.6.1,>=3.4->seaborn) (1.16.0)\n",
      "\n",
      "\u001b[1m[\u001b[0m\u001b[34;49mnotice\u001b[0m\u001b[1;39;49m]\u001b[0m\u001b[39;49m A new release of pip is available: \u001b[0m\u001b[31;49m23.3.1\u001b[0m\u001b[39;49m -> \u001b[0m\u001b[32;49m25.0.1\u001b[0m\n",
      "\u001b[1m[\u001b[0m\u001b[34;49mnotice\u001b[0m\u001b[1;39;49m]\u001b[0m\u001b[39;49m To update, run: \u001b[0m\u001b[32;49mpip3 install --upgrade pip\u001b[0m\n"
     ]
    }
   ],
   "source": [
    "!python3 -m pip install seaborn"
   ]
  },
  {
   "cell_type": "code",
   "execution_count": 11,
   "id": "29e89b78-8e96-4535-a6e3-3036d0a65763",
   "metadata": {},
   "outputs": [
    {
     "name": "stdout",
     "output_type": "stream",
     "text": [
      "Name: seaborn\n",
      "Version: 0.13.2\n",
      "Summary: Statistical data visualization\n",
      "Home-page: \n",
      "Author: \n",
      "Author-email: Michael Waskom <mwaskom@gmail.com>\n",
      "License: \n",
      "Location: /opt/homebrew/lib/python3.11/site-packages\n",
      "Requires: matplotlib, numpy, pandas\n",
      "Required-by: \n"
     ]
    }
   ],
   "source": [
    "!pip show seaborn"
   ]
  },
  {
   "cell_type": "code",
   "execution_count": 12,
   "id": "ac59168e-caeb-4764-a234-7e4102004f64",
   "metadata": {},
   "outputs": [
    {
     "name": "stdout",
     "output_type": "stream",
     "text": [
      "/Library/Frameworks/Python.framework/Versions/3.12/bin/python3\n"
     ]
    }
   ],
   "source": [
    "import sys\n",
    "print(sys.executable)"
   ]
  },
  {
   "cell_type": "code",
   "execution_count": 13,
   "id": "1cc8d834-1a35-47de-aee6-0307626549be",
   "metadata": {},
   "outputs": [
    {
     "data": {
      "image/png": "[encoded data removed]",
      "text/plain": [
       "<Figure size 1000x500 with 1 Axes>"
      ]
     },
     "metadata": {},
     "output_type": "display_data"
    }
   ],
   "source": [
    "# realized from this that sub_type is almost entirely missing, and year_built almost. can drop sub_type, but need to check if year_built is important enough to save\n",
    "import seaborn as sns\n",
    "import matplotlib.pyplot as plt\n",
    "\n",
    "plt.figure(figsize=(10, 5)) # just an estimate of what will make the plot wide enough and easy to read\n",
    "sns.boxplot(x=df[\"year_built\"], y=df[\"listPrice\"]) # good for visualizing distribution of num data across different categories (good with outliers, shows distribution, easy to compare)\n",
    "plt.xticks(rotation=90) # years can be close together, can rotate to make more readable\n",
    "plt.title(\"Relationship Between Year Built and Price\")\n",
    "plt.show()"
   ]
  },
  {
   "cell_type": "code",
   "execution_count": 14,
   "id": "4a564aa0-d047-450d-8a3c-b13f78098911",
   "metadata": {},
   "outputs": [
    {
     "data": {
      "text/plain": [
       "0    2024.0\n",
       "Name: year_built, dtype: float64"
      ]
     },
     "execution_count": 14,
     "metadata": {},
     "output_type": "execute_result"
    }
   ],
   "source": [
    "# boxplot shows that year_built does matter in determining price, but we have 212 missing values, so what do we do?\n",
    "# can use the mode of the year for the missing values\n",
    "\n",
    "df[\"year_built\"].mode()"
   ]
  },
  {
   "cell_type": "code",
   "execution_count": 15,
   "id": "7fa49db9-f86b-4bda-94a1-49a23b3041c2",
   "metadata": {},
   "outputs": [
    {
     "name": "stdout",
     "output_type": "stream",
     "text": [
      "Mode: 2024.0\n",
      "Median: 2006.0\n"
     ]
    }
   ],
   "source": [
    "# comparing to see which one will work better for this situation\n",
    "print(\"Mode:\", df[\"year_built\"].mode()[0])\n",
    "print(\"Median:\", df[\"year_built\"].median())"
   ]
  },
  {
   "cell_type": "code",
   "execution_count": 16,
   "id": "f7d2a08d-7378-4f31-93fd-ff9fdf9e1ab2",
   "metadata": {},
   "outputs": [
    {
     "data": {
      "text/plain": [
       "212"
      ]
     },
     "execution_count": 16,
     "metadata": {},
     "output_type": "execute_result"
    }
   ],
   "source": [
    "# from this we can tell hat the mode not trustworthy, its the current year, so we'll go with median\n",
    "df[\"year_built\"].isnull().sum()"
   ]
  },
  {
   "cell_type": "code",
   "execution_count": 17,
   "id": "80541876-f14c-47ad-8b09-20f0d7f744bc",
   "metadata": {},
   "outputs": [],
   "source": [
    "# Fill missing numerical values with the median\n",
    "df[\"beds\"].fillna(df[\"beds\"].median(), inplace=True)\n",
    "df[\"baths_full\"].fillna(df[\"baths_full\"].median(), inplace=True)\n",
    "df[\"sqft\"].fillna(df[\"sqft\"].median(), inplace=True)\n",
    "df[\"stories\"].fillna(df[\"stories\"].median(), inplace=True)"
   ]
  },
  {
   "cell_type": "code",
   "execution_count": 18,
   "id": "9e12369b-6b03-47e1-abbd-a6d0a188bed0",
   "metadata": {},
   "outputs": [
    {
     "data": {
      "text/plain": [
       "url                  0\n",
       "status               0\n",
       "id                   0\n",
       "listPrice            2\n",
       "baths                0\n",
       "baths_full           0\n",
       "baths_full_calc     65\n",
       "beds                 0\n",
       "sqft                 0\n",
       "stories              0\n",
       "sub_type           491\n",
       "text                 6\n",
       "type                 0\n",
       "year_built         212\n",
       "dtype: int64"
      ]
     },
     "execution_count": 18,
     "metadata": {},
     "output_type": "execute_result"
    }
   ],
   "source": [
    "# Check for any remaining missing values\n",
    "df.isnull().sum()"
   ]
  },
  {
   "cell_type": "code",
   "execution_count": 19,
   "id": "21c5d9d3-ed21-4b69-957b-6b2218d067a5",
   "metadata": {},
   "outputs": [
    {
     "name": "stdout",
     "output_type": "stream",
     "text": [
      "Index(['url', 'status', 'id', 'listPrice', 'baths', 'baths_full',\n",
      "       'baths_full_calc', 'beds', 'sqft', 'stories', 'sub_type', 'text',\n",
      "       'type', 'year_built'],\n",
      "      dtype='object')\n"
     ]
    }
   ],
   "source": [
    "# List all column names\n",
    "print(df.columns)"
   ]
  },
  {
   "cell_type": "code",
   "execution_count": 20,
   "id": "49266250-beb2-497f-84d0-cf4c1b74b6e5",
   "metadata": {},
   "outputs": [
    {
     "data": {
      "text/plain": [
       "url                0\n",
       "status             0\n",
       "id                 0\n",
       "listPrice          0\n",
       "baths              0\n",
       "baths_full         0\n",
       "baths_full_calc    0\n",
       "beds               0\n",
       "sqft               0\n",
       "stories            0\n",
       "text               0\n",
       "type               0\n",
       "year_built         0\n",
       "dtype: int64"
      ]
     },
     "execution_count": 20,
     "metadata": {},
     "output_type": "execute_result"
    }
   ],
   "source": [
    "# missing too many things\n",
    "# Drop column only if it exists\n",
    "if \"sub_type\" in df.columns:\n",
    "    df.drop(columns=[\"sub_type\"], inplace=True)\n",
    "\n",
    "# filling again\n",
    "df[\"year_built\"].fillna(df[\"year_built\"].median(), inplace=True)\n",
    "df[\"listPrice\"].fillna(df[\"listPrice\"].median(), inplace=True)\n",
    "df[\"baths_full_calc\"].fillna(df[\"baths_full\"], inplace=True)\n",
    "\n",
    "# handle text\n",
    "df[\"text\"].fillna(\"No description available\", inplace=True)\n",
    "\n",
    "df.isnull().sum()"
   ]
  },
  {
   "cell_type": "code",
   "execution_count": 22,
   "id": "7d1d6bdd-cbf9-4a59-97b1-c6c014565580",
   "metadata": {},
   "outputs": [
    {
     "name": "stdout",
     "output_type": "stream",
     "text": [
      "Number of outliers detected: 30\n"
     ]
    }
   ],
   "source": [
    "# next we need to figure out outliers\n",
    "Q1 = df[\"listPrice\"].quantile(0.25)\n",
    "Q3 = df[\"listPrice\"].quantile(0.75)\n",
    "IQR = Q3 - Q1\n",
    "\n",
    "# Define outlier threshold\n",
    "lower_bound = Q1 - 1.5 * IQR\n",
    "upper_bound = Q3 + 1.5 * IQR\n",
    "\n",
    "# Filter out outliers\n",
    "outliers = df[(df[\"listPrice\"] < lower_bound) | (df[\"listPrice\"] > upper_bound)]\n",
    "print(\"Number of outliers detected:\", outliers.shape[0])"
   ]
  },
  {
   "cell_type": "code",
   "execution_count": null,
   "id": "94d54e0c-fd9c-4798-88b5-07dca13e632a",
   "metadata": {},
   "outputs": [],
   "source": []
  },
  {
   "cell_type": "code",
   "execution_count": null,
   "id": "743d445d-be34-4dc0-8682-6106f4347bce",
   "metadata": {},
   "outputs": [],
   "source": []
  }
 ],
 "metadata": {
  "kernelspec": {
   "display_name": "Python 3 (ipykernel)",
   "language": "python",
   "name": "python3"
  },
  "language_info": {
   "codemirror_mode": {
    "name": "ipython",
    "version": 3
   },
   "file_extension": ".py",
   "mimetype": "text/x-python",
   "name": "python",
   "nbconvert_exporter": "python",
   "pygments_lexer": "ipython3",
   "version": "3.12.0"
  }
 },
 "nbformat": 4,
 "nbformat_minor": 5
}
