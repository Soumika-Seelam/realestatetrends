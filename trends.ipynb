{
 "cells": [
  {
   "cell_type": "code",
   "execution_count": null,
   "id": "3b0796bf-baf4-4de6-be54-f302a30b4773",
   "metadata": {},
   "outputs": [],
   "source": [
    "# Texas Real Estate Trends"
   ]
  },
  {
   "cell_type": "code",
   "execution_count": null,
   "id": "55340100-3932-4659-b695-a99e32959529",
   "metadata": {},
   "outputs": [],
   "source": [
    "## Importing Libraries"
   ]
  },
  {
   "cell_type": "code",
   "execution_count": null,
   "id": "e8d650de-6540-4a8e-816d-68915013c55c",
   "metadata": {},
   "outputs": [],
   "source": [
    "import pandas as pd"
   ]
  },
  {
   "cell_type": "code",
   "execution_count": null,
   "id": "4baae154-988b-45bc-b39e-710ec964f369",
   "metadata": {},
   "outputs": [],
   "source": [
    "## Loading Data"
   ]
  },
  {
   "cell_type": "code",
   "execution_count": null,
   "id": "a6c953db-9f8a-4a78-81fc-70d48bca1308",
   "metadata": {},
   "outputs": [],
   "source": [
    "df = pd.read_csv(\"real_estate_texas_500_2024.csv\")\n",
    "\n",
    "# will display the first few rows\n",
    "df.head()"
   ]
  },
  {
   "cell_type": "code",
   "execution_count": null,
   "id": "8df6e798-6d97-4f34-acb6-835f4a7d36fa",
   "metadata": {},
   "outputs": [],
   "source": [
    "# trying to figure out how many rows and columns\n",
    "df.shape"
   ]
  },
  {
   "cell_type": "code",
   "execution_count": null,
   "id": "3ce1b2ec-20b5-4506-90d5-2dcbb2341ad2",
   "metadata": {},
   "outputs": [],
   "source": [
    "# column names, data types, missing info\n",
    "df.info()"
   ]
  },
  {
   "cell_type": "code",
   "execution_count": null,
   "id": "e4611b71-2af5-4efb-b85f-2cb19c56a403",
   "metadata": {},
   "outputs": [],
   "source": [
    "# checking for the sum of null values in each column\n",
    "df.isnull().sum()"
   ]
  },
  {
   "cell_type": "code",
   "execution_count": null,
   "id": "a6a85997-5526-482f-a95c-797f1ee1afdc",
   "metadata": {},
   "outputs": [],
   "source": [
    "!python3 -m pip install seaborn"
   ]
  },
  {
   "cell_type": "code",
   "execution_count": null,
   "id": "29e89b78-8e96-4535-a6e3-3036d0a65763",
   "metadata": {},
   "outputs": [],
   "source": [
    "!pip show seaborn"
   ]
  },
  {
   "cell_type": "code",
   "execution_count": null,
   "id": "ac59168e-caeb-4764-a234-7e4102004f64",
   "metadata": {},
   "outputs": [],
   "source": [
    "import sys\n",
    "print(sys.executable)"
   ]
  },
  {
   "cell_type": "code",
   "execution_count": null,
   "id": "1cc8d834-1a35-47de-aee6-0307626549be",
   "metadata": {},
   "outputs": [],
   "source": [
    "# realized from this that sub_type is almost entirely missing, and year_built almost. can drop sub_type, but need to check if year_built is important enough to save\n",
    "import seaborn as sns\n",
    "import matplotlib.pyplot as plt\n",
    "\n",
    "plt.figure(figsize=(10, 5)) # just an estimate of what will make the plot wide enough and easy to read\n",
    "sns.boxplot(x=df[\"year_built\"], y=df[\"listPrice\"]) # good for visualizing distribution of num data across different categories (good with outliers, shows distribution, easy to compare)\n",
    "plt.xticks(rotation=90) # years can be close together, can rotate to make more readable\n",
    "plt.title(\"Relationship Between Year Built and Price\")\n",
    "plt.show()"
   ]
  },
  {
   "cell_type": "code",
   "execution_count": null,
   "id": "4a564aa0-d047-450d-8a3c-b13f78098911",
   "metadata": {},
   "outputs": [],
   "source": [
    "# boxplot shows that year_built does matter in determining price, but we have 212 missing values, so what do we do?\n",
    "# can use the mode of the year for the missing values\n",
    "\n",
    "df[\"year_built\"].mode()"
   ]
  },
  {
   "cell_type": "code",
   "execution_count": null,
   "id": "7fa49db9-f86b-4bda-94a1-49a23b3041c2",
   "metadata": {},
   "outputs": [],
   "source": [
    "# comparing to see which one will work better for this situation\n",
    "print(\"Mode:\", df[\"year_built\"].mode()[0])\n",
    "print(\"Median:\", df[\"year_built\"].median())"
   ]
  },
  {
   "cell_type": "code",
   "execution_count": null,
   "id": "f7d2a08d-7378-4f31-93fd-ff9fdf9e1ab2",
   "metadata": {},
   "outputs": [],
   "source": [
    "# from this we can tell hat the mode not trustworthy, its the current year, so we'll go with median\n",
    "df[\"year_built\"].isnull().sum()"
   ]
  },
  {
   "cell_type": "code",
   "execution_count": null,
   "id": "80541876-f14c-47ad-8b09-20f0d7f744bc",
   "metadata": {},
   "outputs": [],
   "source": [
    "# Fill missing numerical values with the median\n",
    "df[\"beds\"].fillna(df[\"beds\"].median(), inplace=True)\n",
    "df[\"baths_full\"].fillna(df[\"baths_full\"].median(), inplace=True)\n",
    "df[\"sqft\"].fillna(df[\"sqft\"].median(), inplace=True)\n",
    "df[\"stories\"].fillna(df[\"stories\"].median(), inplace=True)"
   ]
  },
  {
   "cell_type": "code",
   "execution_count": null,
   "id": "9e12369b-6b03-47e1-abbd-a6d0a188bed0",
   "metadata": {},
   "outputs": [],
   "source": [
    "# Check for any remaining missing values\n",
    "df.isnull().sum()"
   ]
  },
  {
   "cell_type": "code",
   "execution_count": null,
   "id": "21c5d9d3-ed21-4b69-957b-6b2218d067a5",
   "metadata": {},
   "outputs": [],
   "source": [
    "# List all column names\n",
    "print(df.columns)"
   ]
  },
  {
   "cell_type": "code",
   "execution_count": null,
   "id": "49266250-beb2-497f-84d0-cf4c1b74b6e5",
   "metadata": {},
   "outputs": [],
   "source": [
    "# missing too many things\n",
    "# Drop column only if it exists\n",
    "if \"sub_type\" in df.columns:\n",
    "    df.drop(columns=[\"sub_type\"], inplace=True)\n",
    "\n",
    "# filling again\n",
    "df[\"year_built\"].fillna(df[\"year_built\"].median(), inplace=True)\n",
    "df[\"listPrice\"].fillna(df[\"listPrice\"].median(), inplace=True)\n",
    "df[\"baths_full_calc\"].fillna(df[\"baths_full\"], inplace=True)\n",
    "\n",
    "# handle text\n",
    "df[\"text\"].fillna(\"No description available\", inplace=True)\n",
    "\n",
    "df.isnull().sum()"
   ]
  },
  {
   "cell_type": "code",
   "execution_count": null,
   "id": "7d1d6bdd-cbf9-4a59-97b1-c6c014565580",
   "metadata": {},
   "outputs": [],
   "source": [
    "# next we need to figure out outliers\n",
    "Q1 = df[\"listPrice\"].quantile(0.25)\n",
    "Q3 = df[\"listPrice\"].quantile(0.75)\n",
    "IQR = Q3 - Q1\n",
    "\n",
    "# Define outlier threshold\n",
    "lower_bound = Q1 - 1.5 * IQR\n",
    "upper_bound = Q3 + 1.5 * IQR\n",
    "\n",
    "# Filter out outliers\n",
    "outliers = df[(df[\"listPrice\"] < lower_bound) | (df[\"listPrice\"] > upper_bound)]\n",
    "print(\"Number of outliers detected:\", outliers.shape[0])"
   ]
  },
  {
   "cell_type": "code",
   "execution_count": null,
   "id": "94d54e0c-fd9c-4798-88b5-07dca13e632a",
   "metadata": {},
   "outputs": [],
   "source": [
    "# Log Transformations\n",
    "\n",
    "# Detect outliers in listPrice\n",
    "Q1 = df[\"listPrice\"].quantile(0.25)\n",
    "Q3 = df[\"listPrice\"].quantile(0.75)\n",
    "IQR = Q3 - Q1\n",
    "\n",
    "# Define outlier threshold\n",
    "lower_bound = Q1 - 1.5 * IQR\n",
    "upper_bound = Q3 + 1.5 * IQR\n",
    "\n",
    "# Filter out outliers\n",
    "outliers = df[(df[\"listPrice\"] < lower_bound) | (df[\"listPrice\"] > upper_bound)]\n",
    "print(\"Number of outliers detected:\", outliers.shape[0])"
   ]
  },
  {
   "cell_type": "code",
   "execution_count": null,
   "id": "743d445d-be34-4dc0-8682-6106f4347bce",
   "metadata": {},
   "outputs": [],
   "source": [
    "# Visualize\n",
    "import matplotlib.pyplot as plt\n",
    "import seaborn as sns\n",
    "\n",
    "# Before transformation\n",
    "plt.figure(figsize=(12, 5))\n",
    "plt.subplot(1, 2, 1)\n",
    "sns.histplot(df[\"listPrice\"], bins=50, kde=True)\n",
    "plt.title(\"Original Price Distribution\")\n",
    "\n",
    "# After transformation\n",
    "plt.subplot(1, 2, 2)\n",
    "sns.histplot(df[\"listPrice_log\"], bins=50, kde=True)\n",
    "plt.title(\"Log-Transformed Price Distribution\")\n",
    "\n",
    "plt.show()"
   ]
  }
 ],
 "metadata": {
  "kernelspec": {
   "display_name": "Python 3 (ipykernel)",
   "language": "python",
   "name": "python3"
  },
  "language_info": {
   "codemirror_mode": {
    "name": "ipython",
    "version": 3
   },
   "file_extension": ".py",
   "mimetype": "text/x-python",
   "name": "python",
   "nbconvert_exporter": "python",
   "pygments_lexer": "ipython3",
   "version": "3.12.0"
  }
 },
 "nbformat": 4,
 "nbformat_minor": 5
}
