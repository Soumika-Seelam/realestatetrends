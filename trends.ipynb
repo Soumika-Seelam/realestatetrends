{
 "cells": [
  {
   "cell_type": "code",
   "execution_count": 1,
   "id": "1cc8d834-1a35-47de-aee6-0307626549be",
   "metadata": {},
   "outputs": [],
   "source": [
    "# Import necessary libraries\n",
    "import pandas as pd\n",
    "import numpy as np\n",
    "import seaborn as sns\n",
    "import matplotlib.pyplot as plt\n",
    "\n",
    "from sklearn.model_selection import train_test_split, GridSearchCV\n",
    "from sklearn.ensemble import RandomForestRegressor\n",
    "from sklearn.metrics import mean_absolute_error, mean_squared_error, r2_score"
   ]
  },
  {
   "cell_type": "code",
   "execution_count": 2,
   "id": "e8f7f13f-8e49-4488-9c31-1af32d441810",
   "metadata": {},
   "outputs": [
    {
     "name": "stdout",
     "output_type": "stream",
     "text": [
      "<class 'pandas.core.frame.DataFrame'>\n",
      "RangeIndex: 501 entries, 0 to 500\n",
      "Data columns (total 15 columns):\n",
      " #   Column              Non-Null Count  Dtype  \n",
      "---  ------              --------------  -----  \n",
      " 0   listPrice           501 non-null    float64\n",
      " 1   baths               501 non-null    float64\n",
      " 2   baths_full          501 non-null    float64\n",
      " 3   baths_full_calc     501 non-null    float64\n",
      " 4   beds                501 non-null    float64\n",
      " 5   sqft                501 non-null    float64\n",
      " 6   stories             501 non-null    float64\n",
      " 7   year_built          501 non-null    float64\n",
      " 8   sub_type_townhouse  501 non-null    float64\n",
      " 9   type_farm           501 non-null    float64\n",
      " 10  type_land           501 non-null    float64\n",
      " 11  type_mobile         501 non-null    float64\n",
      " 12  type_multi_family   501 non-null    float64\n",
      " 13  type_single_family  501 non-null    float64\n",
      " 14  type_townhomes      501 non-null    float64\n",
      "dtypes: float64(15)\n",
      "memory usage: 58.8 KB\n",
      "None\n",
      "   listPrice  baths  baths_full  baths_full_calc  beds    sqft  stories  \\\n",
      "0   240000.0    2.0         2.0              2.0   3.0  1190.0      1.0   \n",
      "1   379900.0    4.0         3.0              3.0   4.0  2033.0      1.0   \n",
      "2   370000.0    2.0         2.0              2.0   4.0  2062.0      1.0   \n",
      "3   444000.0    4.0         3.0              3.0   5.0  3705.0      2.0   \n",
      "4   569000.0    2.0         2.0              2.0   3.0  3282.0      2.0   \n",
      "\n",
      "   year_built  sub_type_townhouse  type_farm  type_land  type_mobile  \\\n",
      "0      2018.0                 0.0        0.0        0.0          0.0   \n",
      "1      2002.0                 0.0        0.0        0.0          0.0   \n",
      "2      2012.0                 0.0        0.0        0.0          0.0   \n",
      "3      1985.0                 0.0        0.0        0.0          0.0   \n",
      "4      1981.0                 0.0        0.0        0.0          0.0   \n",
      "\n",
      "   type_multi_family  type_single_family  type_townhomes  \n",
      "0                0.0                 1.0             0.0  \n",
      "1                0.0                 1.0             0.0  \n",
      "2                0.0                 1.0             0.0  \n",
      "3                0.0                 1.0             0.0  \n",
      "4                0.0                 1.0             0.0  \n"
     ]
    }
   ],
   "source": [
    "# Load the dataset\n",
    "df_encoded = pd.read_csv(\"real_estate_texas_500_2024.csv\")  # Change to your actual dataset file\n",
    "\n",
    "# Drop unnecessary columns (e.g., 'id' and text-based features)\n",
    "df_encoded.drop(columns=[\"id\", \"text\", \"url\"], errors=\"ignore\", inplace=True)\n",
    "\n",
    "# Identify categorical columns automatically\n",
    "categorical_columns = df_encoded.select_dtypes(include=[\"object\"]).columns.tolist()\n",
    "\n",
    "# Convert categorical columns to numerical (One-Hot Encoding)\n",
    "df_encoded = pd.get_dummies(df_encoded, columns=categorical_columns, drop_first=True)\n",
    "\n",
    "# Now that all columns are numerical, we can safely fill missing values\n",
    "df_encoded.fillna(df_encoded.median(numeric_only=True), inplace=True)\n",
    "\n",
    "# Ensure numerical data types are correct\n",
    "df_encoded = df_encoded.astype({col: \"float64\" for col in df_encoded.columns if col != \"listPrice\"})\n",
    "\n",
    "# Check the data\n",
    "print(df_encoded.info())\n",
    "print(df_encoded.head())"
   ]
  },
  {
   "cell_type": "code",
   "execution_count": 3,
   "id": "81d8d7c7-22c8-43dc-b685-91f7250069df",
   "metadata": {},
   "outputs": [
    {
     "name": "stdout",
     "output_type": "stream",
     "text": [
      "Training set: (400, 14), Testing set: (101, 14)\n"
     ]
    }
   ],
   "source": [
    "from sklearn.model_selection import train_test_split\n",
    "\n",
    "# Define features (X) and target variable (y)\n",
    "X_rf = df_encoded.drop(columns=[\"listPrice\"])  # Features\n",
    "y_rf = df_encoded[\"listPrice\"]  # Target variable\n",
    "\n",
    "# Train-test split (80% training, 20% testing)\n",
    "X_train_rf, X_test_rf, y_train_rf, y_test_rf = train_test_split(\n",
    "    X_rf, y_rf, test_size=0.2, random_state=42\n",
    ")\n",
    "\n",
    "# Check shapes\n",
    "print(f\"Training set: {X_train_rf.shape}, Testing set: {X_test_rf.shape}\")"
   ]
  },
  {
   "cell_type": "code",
   "execution_count": 4,
   "id": "e2fc7be8-823e-4a79-977b-2b3017530c6f",
   "metadata": {},
   "outputs": [
    {
     "name": "stdout",
     "output_type": "stream",
     "text": [
      "Best Parameters: {'max_depth': 5, 'min_samples_leaf': 5, 'min_samples_split': 2, 'n_estimators': 50}\n"
     ]
    }
   ],
   "source": [
    "from sklearn.ensemble import RandomForestRegressor\n",
    "from sklearn.model_selection import GridSearchCV\n",
    "\n",
    "# Define hyperparameter grid\n",
    "param_grid = {\n",
    "    'n_estimators': [50, 100, 200],\n",
    "    'max_depth': [5, 10, None],\n",
    "    'min_samples_split': [2, 5, 10],\n",
    "    'min_samples_leaf': [1, 2, 5]\n",
    "}\n",
    "\n",
    "# Initialize Random Forest model\n",
    "rf = RandomForestRegressor(random_state=42)\n",
    "\n",
    "# Perform Grid Search\n",
    "grid_search = GridSearchCV(rf, param_grid, cv=3, scoring='r2', n_jobs=-1)\n",
    "grid_search.fit(X_train_rf, y_train_rf)\n",
    "\n",
    "# Get the best parameters\n",
    "best_params = grid_search.best_params_\n",
    "print(\"Best Parameters:\", best_params)"
   ]
  },
  {
   "cell_type": "code",
   "execution_count": 5,
   "id": "37eb3bc6-8e6e-48f2-8a67-579334258c1f",
   "metadata": {},
   "outputs": [
    {
     "data": {
      "text/html": [
       "<style>#sk-container-id-1 {color: black;}#sk-container-id-1 pre{padding: 0;}#sk-container-id-1 div.sk-toggleable {background-color: white;}#sk-container-id-1 label.sk-toggleable__label {cursor: pointer;display: block;width: 100%;margin-bottom: 0;padding: 0.3em;box-sizing: border-box;text-align: center;}#sk-container-id-1 label.sk-toggleable__label-arrow:before {content: \"▸\";float: left;margin-right: 0.25em;color: #696969;}#sk-container-id-1 label.sk-toggleable__label-arrow:hover:before {color: black;}#sk-container-id-1 div.sk-estimator:hover label.sk-toggleable__label-arrow:before {color: black;}#sk-container-id-1 div.sk-toggleable__content {max-height: 0;max-width: 0;overflow: hidden;text-align: left;background-color: #f0f8ff;}#sk-container-id-1 div.sk-toggleable__content pre {margin: 0.2em;color: black;border-radius: 0.25em;background-color: #f0f8ff;}#sk-container-id-1 input.sk-toggleable__control:checked~div.sk-toggleable__content {max-height: 200px;max-width: 100%;overflow: auto;}#sk-container-id-1 input.sk-toggleable__control:checked~label.sk-toggleable__label-arrow:before {content: \"▾\";}#sk-container-id-1 div.sk-estimator input.sk-toggleable__control:checked~label.sk-toggleable__label {background-color: #d4ebff;}#sk-container-id-1 div.sk-label input.sk-toggleable__control:checked~label.sk-toggleable__label {background-color: #d4ebff;}#sk-container-id-1 input.sk-hidden--visually {border: 0;clip: rect(1px 1px 1px 1px);clip: rect(1px, 1px, 1px, 1px);height: 1px;margin: -1px;overflow: hidden;padding: 0;position: absolute;width: 1px;}#sk-container-id-1 div.sk-estimator {font-family: monospace;background-color: #f0f8ff;border: 1px dotted black;border-radius: 0.25em;box-sizing: border-box;margin-bottom: 0.5em;}#sk-container-id-1 div.sk-estimator:hover {background-color: #d4ebff;}#sk-container-id-1 div.sk-parallel-item::after {content: \"\";width: 100%;border-bottom: 1px solid gray;flex-grow: 1;}#sk-container-id-1 div.sk-label:hover label.sk-toggleable__label {background-color: #d4ebff;}#sk-container-id-1 div.sk-serial::before {content: \"\";position: absolute;border-left: 1px solid gray;box-sizing: border-box;top: 0;bottom: 0;left: 50%;z-index: 0;}#sk-container-id-1 div.sk-serial {display: flex;flex-direction: column;align-items: center;background-color: white;padding-right: 0.2em;padding-left: 0.2em;position: relative;}#sk-container-id-1 div.sk-item {position: relative;z-index: 1;}#sk-container-id-1 div.sk-parallel {display: flex;align-items: stretch;justify-content: center;background-color: white;position: relative;}#sk-container-id-1 div.sk-item::before, #sk-container-id-1 div.sk-parallel-item::before {content: \"\";position: absolute;border-left: 1px solid gray;box-sizing: border-box;top: 0;bottom: 0;left: 50%;z-index: -1;}#sk-container-id-1 div.sk-parallel-item {display: flex;flex-direction: column;z-index: 1;position: relative;background-color: white;}#sk-container-id-1 div.sk-parallel-item:first-child::after {align-self: flex-end;width: 50%;}#sk-container-id-1 div.sk-parallel-item:last-child::after {align-self: flex-start;width: 50%;}#sk-container-id-1 div.sk-parallel-item:only-child::after {width: 0;}#sk-container-id-1 div.sk-dashed-wrapped {border: 1px dashed gray;margin: 0 0.4em 0.5em 0.4em;box-sizing: border-box;padding-bottom: 0.4em;background-color: white;}#sk-container-id-1 div.sk-label label {font-family: monospace;font-weight: bold;display: inline-block;line-height: 1.2em;}#sk-container-id-1 div.sk-label-container {text-align: center;}#sk-container-id-1 div.sk-container {/* jupyter's `normalize.less` sets `[hidden] { display: none; }` but bootstrap.min.css set `[hidden] { display: none !important; }` so we also need the `!important` here to be able to override the default hidden behavior on the sphinx rendered scikit-learn.org. See: https://github.com/scikit-learn/scikit-learn/issues/21755 */display: inline-block !important;position: relative;}#sk-container-id-1 div.sk-text-repr-fallback {display: none;}</style><div id=\"sk-container-id-1\" class=\"sk-top-container\"><div class=\"sk-text-repr-fallback\"><pre>RandomForestRegressor(max_depth=5, min_samples_leaf=5, n_estimators=50,\n",
       "                      random_state=42)</pre><b>In a Jupyter environment, please rerun this cell to show the HTML representation or trust the notebook. <br />On GitHub, the HTML representation is unable to render, please try loading this page with nbviewer.org.</b></div><div class=\"sk-container\" hidden><div class=\"sk-item\"><div class=\"sk-estimator sk-toggleable\"><input class=\"sk-toggleable__control sk-hidden--visually\" id=\"sk-estimator-id-1\" type=\"checkbox\" checked><label for=\"sk-estimator-id-1\" class=\"sk-toggleable__label sk-toggleable__label-arrow\">RandomForestRegressor</label><div class=\"sk-toggleable__content\"><pre>RandomForestRegressor(max_depth=5, min_samples_leaf=5, n_estimators=50,\n",
       "                      random_state=42)</pre></div></div></div></div></div>"
      ],
      "text/plain": [
       "RandomForestRegressor(max_depth=5, min_samples_leaf=5, n_estimators=50,\n",
       "                      random_state=42)"
      ]
     },
     "execution_count": 5,
     "metadata": {},
     "output_type": "execute_result"
    }
   ],
   "source": [
    "# need to retrain the model with the optimized parameters, so we create a new Random Forest model using the best parameters\n",
    "rf_model_best = RandomForestRegressor(\n",
    "    n_estimators=best_params[\"n_estimators\"],\n",
    "    max_depth=best_params[\"max_depth\"],\n",
    "    min_samples_split=best_params[\"min_samples_split\"],\n",
    "    min_samples_leaf=best_params[\"min_samples_leaf\"],\n",
    "    random_state=42\n",
    ")\n",
    "\n",
    "# Train the model on the full training set\n",
    "rf_model_best.fit(X_train_rf, y_train_rf)"
   ]
  },
  {
   "cell_type": "code",
   "execution_count": 6,
   "id": "edde2513-16ed-423d-b40c-95ba22fd089b",
   "metadata": {},
   "outputs": [],
   "source": [
    "# now we can make the predictions on the test set\n",
    "y_pred_best = rf_model_best.predict(X_test_rf)"
   ]
  },
  {
   "cell_type": "code",
   "execution_count": 7,
   "id": "ad513ddf-54a1-43e1-8252-60ed23623a43",
   "metadata": {},
   "outputs": [
    {
     "name": "stdout",
     "output_type": "stream",
     "text": [
      "Optimized RF - MAE: 135308.45\n",
      "Optimized RF - RMSE: 290567.78\n",
      "Optimized RF - R² Score: 0.12\n"
     ]
    }
   ],
   "source": [
    "# now evaluate the model's performance\n",
    "from sklearn.metrics import mean_absolute_error, mean_squared_error, r2_score\n",
    "import numpy as np\n",
    "\n",
    "# Compute evaluation metrics\n",
    "mae_best = mean_absolute_error(y_test_rf, y_pred_best)\n",
    "rmse_best = np.sqrt(mean_squared_error(y_test_rf, y_pred_best))\n",
    "r2_best = r2_score(y_test_rf, y_pred_best)\n",
    "\n",
    "# Print results\n",
    "print(f\"Optimized RF - MAE: {mae_best:.2f}\")\n",
    "print(f\"Optimized RF - RMSE: {rmse_best:.2f}\")\n",
    "print(f\"Optimized RF - R² Score: {r2_best:.2f}\")"
   ]
  },
  {
   "cell_type": "code",
   "execution_count": 8,
   "id": "ceaabc89-d9eb-4781-9b47-da07bd486ac2",
   "metadata": {},
   "outputs": [
    {
     "data": {
      "image/png": "[encoded data removed]",
      "text/plain": [
       "<Figure size 1000x500 with 1 Axes>"
      ]
     },
     "metadata": {},
     "output_type": "display_data"
    }
   ],
   "source": [
    "# visualizing the outliers\n",
    "import seaborn as sns\n",
    "import matplotlib.pyplot as plt\n",
    "\n",
    "plt.figure(figsize=(10,5))\n",
    "sns.boxplot(x=df_encoded[\"listPrice\"])\n",
    "plt.title(\"Boxplot of House Prices (Detecting Outliers)\")\n",
    "plt.show()"
   ]
  },
  {
   "cell_type": "code",
   "execution_count": 10,
   "id": "b650cabe-e62d-4ebd-b006-8710e4b3e02c",
   "metadata": {},
   "outputs": [
    {
     "data": {
      "image/png": "[encoded data removed]",
      "text/plain": [
       "<Figure size 1000x500 with 1 Axes>"
      ]
     },
     "metadata": {},
     "output_type": "display_data"
    }
   ],
   "source": [
    "# need to remove outliers according to the results of the boxplot\n",
    "Q1 = df_encoded[\"listPrice\"].quantile(0.25)  # 25th percentile\n",
    "Q3 = df_encoded[\"listPrice\"].quantile(0.75)  # 75th percentile\n",
    "IQR = Q3 - Q1  # Interquartile range\n",
    "\n",
    "# Define lower and upper bounds\n",
    "lower_bound = Q1 - 1.5 * IQR\n",
    "upper_bound = Q3 + 1.5 * IQR\n",
    "\n",
    "# Remove outliers\n",
    "df_encoded = df_encoded[(df_encoded[\"listPrice\"] >= lower_bound) & (df_encoded[\"listPrice\"] <= upper_bound)]\n",
    "\n",
    "# Plot again to confirm\n",
    "plt.figure(figsize=(10,5))\n",
    "sns.boxplot(x=df_encoded[\"listPrice\"])\n",
    "plt.title(\"Boxplot After Outlier Removal\")\n",
    "plt.show()"
   ]
  },
  {
   "cell_type": "code",
   "execution_count": 11,
   "id": "34eb4343-6ff6-4962-8b2e-0d534b77dfa4",
   "metadata": {},
   "outputs": [],
   "source": [
    "# Use a stricter outlier removal threshold\n",
    "lower_bound = Q1 - 3 * IQR\n",
    "upper_bound = Q3 + 3 * IQR"
   ]
  },
  {
   "cell_type": "code",
   "execution_count": null,
   "id": "e53b9053-f563-4f9c-b283-7fa8c0178fea",
   "metadata": {},
   "outputs": [],
   "source": []
  }
 ],
 "metadata": {
  "kernelspec": {
   "display_name": "Python 3 (ipykernel)",
   "language": "python",
   "name": "python3"
  },
  "language_info": {
   "codemirror_mode": {
    "name": "ipython",
    "version": 3
   },
   "file_extension": ".py",
   "mimetype": "text/x-python",
   "name": "python",
   "nbconvert_exporter": "python",
   "pygments_lexer": "ipython3",
   "version": "3.12.0"
  }
 },
 "nbformat": 4,
 "nbformat_minor": 5
}
