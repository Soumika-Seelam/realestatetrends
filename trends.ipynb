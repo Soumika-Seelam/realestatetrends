{
 "cells": [
  {
   "cell_type": "code",
   "execution_count": 102,
   "id": "1cc8d834-1a35-47de-aee6-0307626549be",
   "metadata": {},
   "outputs": [],
   "source": [
    "# Import necessary libraries\n",
    "import pandas as pd\n",
    "import numpy as np\n",
    "import seaborn as sns\n",
    "import matplotlib.pyplot as plt\n",
    "\n",
    "from sklearn.model_selection import train_test_split, GridSearchCV\n",
    "from sklearn.ensemble import RandomForestRegressor\n",
    "from sklearn.metrics import mean_absolute_error, mean_squared_error, r2_score"
   ]
  },
  {
   "cell_type": "code",
   "execution_count": 109,
   "id": "e8f7f13f-8e49-4488-9c31-1af32d441810",
   "metadata": {},
   "outputs": [
    {
     "name": "stdout",
     "output_type": "stream",
     "text": [
      "<class 'pandas.core.frame.DataFrame'>\n",
      "RangeIndex: 501 entries, 0 to 500\n",
      "Data columns (total 15 columns):\n",
      " #   Column              Non-Null Count  Dtype  \n",
      "---  ------              --------------  -----  \n",
      " 0   listPrice           501 non-null    float64\n",
      " 1   baths               501 non-null    float64\n",
      " 2   baths_full          501 non-null    float64\n",
      " 3   baths_full_calc     501 non-null    float64\n",
      " 4   beds                501 non-null    float64\n",
      " 5   sqft                501 non-null    float64\n",
      " 6   stories             501 non-null    float64\n",
      " 7   year_built          501 non-null    float64\n",
      " 8   sub_type_townhouse  501 non-null    float64\n",
      " 9   type_farm           501 non-null    float64\n",
      " 10  type_land           501 non-null    float64\n",
      " 11  type_mobile         501 non-null    float64\n",
      " 12  type_multi_family   501 non-null    float64\n",
      " 13  type_single_family  501 non-null    float64\n",
      " 14  type_townhomes      501 non-null    float64\n",
      "dtypes: float64(15)\n",
      "memory usage: 58.8 KB\n",
      "None\n",
      "   listPrice  baths  baths_full  baths_full_calc  beds    sqft  stories  \\\n",
      "0   240000.0    2.0         2.0              2.0   3.0  1190.0      1.0   \n",
      "1   379900.0    4.0         3.0              3.0   4.0  2033.0      1.0   \n",
      "2   370000.0    2.0         2.0              2.0   4.0  2062.0      1.0   \n",
      "3   444000.0    4.0         3.0              3.0   5.0  3705.0      2.0   \n",
      "4   569000.0    2.0         2.0              2.0   3.0  3282.0      2.0   \n",
      "\n",
      "   year_built  sub_type_townhouse  type_farm  type_land  type_mobile  \\\n",
      "0      2018.0                 0.0        0.0        0.0          0.0   \n",
      "1      2002.0                 0.0        0.0        0.0          0.0   \n",
      "2      2012.0                 0.0        0.0        0.0          0.0   \n",
      "3      1985.0                 0.0        0.0        0.0          0.0   \n",
      "4      1981.0                 0.0        0.0        0.0          0.0   \n",
      "\n",
      "   type_multi_family  type_single_family  type_townhomes  \n",
      "0                0.0                 1.0             0.0  \n",
      "1                0.0                 1.0             0.0  \n",
      "2                0.0                 1.0             0.0  \n",
      "3                0.0                 1.0             0.0  \n",
      "4                0.0                 1.0             0.0  \n"
     ]
    }
   ],
   "source": [
    "# Load the dataset\n",
    "df_encoded = pd.read_csv(\"real_estate_texas_500_2024.csv\")  # Change to your actual dataset file\n",
    "\n",
    "# Drop unnecessary columns (e.g., 'id' and text-based features)\n",
    "df_encoded.drop(columns=[\"id\", \"text\", \"url\"], errors=\"ignore\", inplace=True)\n",
    "\n",
    "# Identify categorical columns automatically\n",
    "categorical_columns = df_encoded.select_dtypes(include=[\"object\"]).columns.tolist()\n",
    "\n",
    "# Convert categorical columns to numerical (One-Hot Encoding)\n",
    "df_encoded = pd.get_dummies(df_encoded, columns=categorical_columns, drop_first=True)\n",
    "\n",
    "# Now that all columns are numerical, we can safely fill missing values\n",
    "df_encoded.fillna(df_encoded.median(numeric_only=True), inplace=True)\n",
    "\n",
    "# Ensure numerical data types are correct\n",
    "df_encoded = df_encoded.astype({col: \"float64\" for col in df_encoded.columns if col != \"listPrice\"})\n",
    "\n",
    "# Check the data\n",
    "print(df_encoded.info())\n",
    "print(df_encoded.head())"
   ]
  },
  {
   "cell_type": "code",
   "execution_count": null,
   "id": "81d8d7c7-22c8-43dc-b685-91f7250069df",
   "metadata": {},
   "outputs": [],
   "source": []
  }
 ],
 "metadata": {
  "kernelspec": {
   "display_name": "Python 3 (ipykernel)",
   "language": "python",
   "name": "python3"
  },
  "language_info": {
   "codemirror_mode": {
    "name": "ipython",
    "version": 3
   },
   "file_extension": ".py",
   "mimetype": "text/x-python",
   "name": "python",
   "nbconvert_exporter": "python",
   "pygments_lexer": "ipython3",
   "version": "3.12.0"
  }
 },
 "nbformat": 4,
 "nbformat_minor": 5
}
